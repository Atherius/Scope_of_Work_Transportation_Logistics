{
 "cells": [
  {
   "cell_type": "code",
   "execution_count": 0,
   "metadata": {
    "application/vnd.databricks.v1+cell": {
     "cellMetadata": {
      "byteLimit": 2048000,
      "rowLimit": 10000
     },
     "inputWidgets": {},
     "nuid": "66128f4d-9b3f-486b-a80e-b504b4d75a3b",
     "showTitle": false,
     "tableResultSettingsMap": {},
     "title": ""
    }
   },
   "outputs": [
    {
     "output_type": "stream",
     "name": "stdout",
     "output_type": "stream",
     "text": [
      "Failed to write log: 'FSHandler' object has no attribute 'exists'\n"
     ]
    }
   ],
   "source": [
    "\n",
    "from datetime import datetime\n",
    "import logging\n",
    "\n",
    "\n",
    "log_file_path = \"abfss://silver@logisticsandtransport.dfs.core.windows.net/logs/processing_log.txt\"\n",
    "logger = logging.getLogger(\"BronzeDataPipeline\")\n",
    "logger.setLevel(logging.INFO)\n",
    "\n",
    "class ADLSHandler(logging.Handler):\n",
    "    def emit(self, record):\n",
    "        from pyspark.dbutils import DBUtils\n",
    "        dbutils = DBUtils(spark)\n",
    "        message = self.format(record)\n",
    "        timestamp = datetime.now().strftime(\"%Y-%m-%d %H:%M:%S\")\n",
    "        full_message = f\"[{timestamp}] {message}\\n\"\n",
    "        try:\n",
    "            existing_logs = dbutils.fs.head(log_file_path, 1048576) if dbutils.fs.exists(log_file_path) else \"\"\n",
    "            updated_logs = existing_logs.rstrip() + \"\\\\n\" + full_message\n",
    "            dbutils.fs.put(log_file_path, updated_logs, overwrite=True)\n",
    "        except Exception as e:\n",
    "            print(f\"Failed to write log: {e}\")\n",
    "\n",
    "log_handler = ADLSHandler()\n",
    "formatter = logging.Formatter('%(levelname)s - %(message)s')\n",
    "log_handler.setFormatter(formatter)\n",
    "logger.addHandler(log_handler)\n",
    "logger.info(\"Logging initialized.\")\n"
   ]
  },
  {
   "cell_type": "code",
   "execution_count": 0,
   "metadata": {
    "application/vnd.databricks.v1+cell": {
     "cellMetadata": {
      "byteLimit": 2048000,
      "rowLimit": 10000
     },
     "inputWidgets": {},
     "nuid": "9966775e-0fe0-4dec-916d-a7ff961b86f6",
     "showTitle": false,
     "tableResultSettingsMap": {},
     "title": ""
    }
   },
   "outputs": [],
   "source": [
    "try:\n",
    "    #importing necessary packages\n",
    "    from pyspark.sql import*\n",
    "    from pyspark.sql.functions import*\n",
    "    from pyspark.sql.types import*\n",
    "    logger.info(\"Packages imported successfully.\")\n",
    "except Exception as e:\n",
    "    logger.error(f\"Error: {str(e)}\")\n",
    "    raise"
   ]
  },
  {
   "cell_type": "code",
   "execution_count": 0,
   "metadata": {
    "application/vnd.databricks.v1+cell": {
     "cellMetadata": {
      "byteLimit": 2048000,
      "rowLimit": 10000
     },
     "inputWidgets": {},
     "nuid": "038cc43b-a11f-4a06-8b5b-fbe218885524",
     "showTitle": false,
     "tableResultSettingsMap": {},
     "title": ""
    }
   },
   "outputs": [],
   "source": [
    "try:\n",
    "    spark.conf.set(\n",
    "        \"fs.azure.account.key.logisticsandtransport.dfs.core.windows.net\",\n",
    "        \"AztFZBkLKu6aGzdDi4r7aT7UA7G4UF5oSkFFTwzGjWNM79CRvggV3PuK5iAyZGCbYobManm6J5Ny+AStqinx7A==\")\n",
    "    logger.info(\"Access key Verified.\")\n",
    "except Exception as e:\n",
    "    logger.error(f\"Error: {str(e)}\")\n",
    "    raise"
   ]
  },
  {
   "cell_type": "code",
   "execution_count": 0,
   "metadata": {
    "application/vnd.databricks.v1+cell": {
     "cellMetadata": {
      "byteLimit": 2048000,
      "rowLimit": 10000
     },
     "inputWidgets": {},
     "nuid": "d12b229a-d2d7-447a-9d36-b234ec474755",
     "showTitle": false,
     "tableResultSettingsMap": {},
     "title": ""
    }
   },
   "outputs": [],
   "source": [
    "try:\n",
    "    #setting up the paths of both bronze and silver data containers \n",
    "    bronze_path=\"abfss://bronze@logisticsandtransport.dfs.core.windows.net/\"\n",
    "    silver_path=\"abfss://silver@logisticsandtransport.dfs.core.windows.net/\"\n",
    "    logger.info(\"Paths set successfully.\")\n",
    "except Exception as e:\n",
    "    logger.error(f\"Error: {str(e)}\")\n",
    "    raise"
   ]
  },
  {
   "cell_type": "code",
   "execution_count": 0,
   "metadata": {
    "application/vnd.databricks.v1+cell": {
     "cellMetadata": {
      "byteLimit": 2048000,
      "rowLimit": 10000
     },
     "inputWidgets": {},
     "nuid": "e21adb3d-4fed-40be-9da3-49a879907441",
     "showTitle": false,
     "tableResultSettingsMap": {},
     "title": ""
    }
   },
   "outputs": [],
   "source": [
    "try:\n",
    "    #load all datasets from bronze path\n",
    "    delivery_bronze=spark.read.format(\"parquet\").options(header='true',inferSchema='true').load(f\"{bronze_path}delivery_data_bronze.parquet\")\n",
    "    driver_bronze=spark.read.format(\"parquet\").options(header='true',inferSchema='true').load(f\"{bronze_path}driver_data_bronze.parquet\")\n",
    "    route_bronze=spark.read.format(\"parquet\").options(header='true',inferSchema='true').load(f\"{bronze_path}route_data_bronze.parquet\")\n",
    "    vehicle_bronze=spark.read.format(\"parquet\").options(header='true',inferSchema='true').load(f\"{bronze_path}vehicle_data_bronze.parquet\")\n",
    "    logger.info(\"Bronze dataset loaded.\")\n",
    "except Exception as e:\n",
    "    logger.error(f\"Error: {str(e)}\")\n",
    "    raise"
   ]
  },
  {
   "cell_type": "markdown",
   "metadata": {
    "application/vnd.databricks.v1+cell": {
     "cellMetadata": {
      "byteLimit": 2048000,
      "rowLimit": 10000
     },
     "inputWidgets": {},
     "nuid": "905edc54-dfa7-4522-9ce3-9190c48df17a",
     "showTitle": false,
     "tableResultSettingsMap": {},
     "title": ""
    }
   },
   "source": [
    ">Type Conversions for columns that need changes"
   ]
  },
  {
   "cell_type": "code",
   "execution_count": 0,
   "metadata": {
    "application/vnd.databricks.v1+cell": {
     "cellMetadata": {
      "byteLimit": 2048000,
      "rowLimit": 10000
     },
     "inputWidgets": {},
     "nuid": "9e4def84-1138-4a73-b8d6-23ec55bf470f",
     "showTitle": false,
     "tableResultSettingsMap": {},
     "title": ""
    }
   },
   "outputs": [],
   "source": [
    "try:\n",
    "    delivery_bronze = delivery_bronze .withColumn(\"delivery_time\", col(\"delivery_time\").cast(FloatType())) \\\n",
    "        .withColumn(\"distance_covered\", col(\"distance_covered\").cast(FloatType()))\n",
    "    logger.info(\"Type Cast successfull.\")\n",
    "except Exception as e:\n",
    "    logger.error(f\"Error: {str(e)}\")\n",
    "    raise"
   ]
  },
  {
   "cell_type": "code",
   "execution_count": 0,
   "metadata": {
    "application/vnd.databricks.v1+cell": {
     "cellMetadata": {
      "byteLimit": 2048000,
      "rowLimit": 10000
     },
     "inputWidgets": {},
     "nuid": "50f97e8d-c780-45a4-827d-2be5fff73ea6",
     "showTitle": false,
     "tableResultSettingsMap": {},
     "title": ""
    }
   },
   "outputs": [],
   "source": [
    "try:\n",
    "    driver_bronze = driver_bronze.withColumn(\"rating\", col(\"rating\").cast(FloatType()))\n",
    "    logger.info(\"Type Cast successfull.\")\n",
    "except Exception as e:\n",
    "    logger.error(f\"Error: {str(e)}\")\n",
    "    raise"
   ]
  },
  {
   "cell_type": "code",
   "execution_count": 0,
   "metadata": {
    "application/vnd.databricks.v1+cell": {
     "cellMetadata": {
      "byteLimit": 2048000,
      "rowLimit": 10000
     },
     "inputWidgets": {},
     "nuid": "9ec5351a-d0e7-4ef2-852b-65e0b55bc73e",
     "showTitle": false,
     "tableResultSettingsMap": {},
     "title": ""
    }
   },
   "outputs": [],
   "source": [
    "try:\n",
    "    route_bronze = route_bronze.withColumn(\"distance\", col(\"distance\").cast(FloatType()))\n",
    "    logger.info(\"Type Cast successfull.\")\n",
    "except Exception as e:\n",
    "    logger.error(f\"Error: {str(e)}\")\n",
    "    raise"
   ]
  },
  {
   "cell_type": "code",
   "execution_count": 0,
   "metadata": {
    "application/vnd.databricks.v1+cell": {
     "cellMetadata": {
      "byteLimit": 2048000,
      "rowLimit": 10000
     },
     "inputWidgets": {},
     "nuid": "3e12408b-70fc-41ba-9e0b-722873085528",
     "showTitle": false,
     "tableResultSettingsMap": {},
     "title": ""
    }
   },
   "outputs": [],
   "source": [
    "try:\n",
    "    vehicle_bronze = vehicle_bronze.withColumn(\"fuel_efficiency\", col(\"fuel_efficiency\").cast(FloatType()))\n",
    "    logger.info(\"Type Cast successfull.\")\n",
    "except Exception as e:\n",
    "    logger.error(f\"Error: {str(e)}\")\n",
    "    raise"
   ]
  },
  {
   "cell_type": "markdown",
   "metadata": {
    "application/vnd.databricks.v1+cell": {
     "cellMetadata": {
      "byteLimit": 2048000,
      "rowLimit": 10000
     },
     "inputWidgets": {},
     "nuid": "1a213e6a-ccf5-4f41-93a1-ae6530f593b4",
     "showTitle": false,
     "tableResultSettingsMap": {},
     "title": ""
    }
   },
   "source": [
    ">Data Cleaning"
   ]
  },
  {
   "cell_type": "code",
   "execution_count": 0,
   "metadata": {
    "application/vnd.databricks.v1+cell": {
     "cellMetadata": {
      "byteLimit": 2048000,
      "rowLimit": 10000
     },
     "inputWidgets": {},
     "nuid": "14fbe2ef-94d7-4ba1-a273-068ac384427c",
     "showTitle": false,
     "tableResultSettingsMap": {},
     "title": ""
    }
   },
   "outputs": [],
   "source": [
    "try:\n",
    "    #Drop Null Values\n",
    "    delivery_bronze = delivery_bronze.dropna(subset=[\"delivery_id\", \"vehicle_id\", \"route_id\", \"driver_id\",\"delivery_time\",\"distance_covered\",\"delivery_status\"])\n",
    "    vehicle_bronze = vehicle_bronze.dropna(subset=[\"vehicle_id\",\"vehicle_type\",\"fuel_efficiency\"])\n",
    "    route_bronze = route_bronze.dropna(subset=[\"route_id\",\"start_location\",\"end_location\",\"distance\"])\n",
    "    driver_bronze = driver_bronze.dropna(subset=[\"driver_id\", \"driver_name\",\"rating\"])\n",
    "    logger.info(\"Null values dropped.\")\n",
    "except Exception as e:\n",
    "    logger.error(f\"Error: {str(e)}\")\n",
    "    raise"
   ]
  },
  {
   "cell_type": "code",
   "execution_count": 0,
   "metadata": {
    "application/vnd.databricks.v1+cell": {
     "cellMetadata": {
      "byteLimit": 2048000,
      "rowLimit": 10000
     },
     "inputWidgets": {},
     "nuid": "34500282-91bf-405a-88af-bfbd9bb64a58",
     "showTitle": false,
     "tableResultSettingsMap": {},
     "title": ""
    }
   },
   "outputs": [],
   "source": [
    "try:\n",
    "    #creating route_name column\n",
    "    route_bronze = route_bronze.withColumn(\"route_name\", concat(col(\"start_location\"), lit(\" to \"), col(\"end_location\")))\n",
    "    logger.info(\"route_name created successfully.\")\n",
    "except Exception as e:\n",
    "    logger.error(f\"Error: {str(e)}\")\n",
    "    raise"
   ]
  },
  {
   "cell_type": "code",
   "execution_count": 0,
   "metadata": {
    "application/vnd.databricks.v1+cell": {
     "cellMetadata": {
      "byteLimit": 2048000,
      "rowLimit": 10000
     },
     "inputWidgets": {},
     "nuid": "65791313-70cd-47ed-bbb4-fb48e0b04389",
     "showTitle": false,
     "tableResultSettingsMap": {},
     "title": ""
    }
   },
   "outputs": [
    {
     "output_type": "display_data",
     "data": {
      "text/html": [
       "<style scoped>\n",
       "  .table-result-container {\n",
       "    max-height: 300px;\n",
       "    overflow: auto;\n",
       "  }\n",
       "  table, th, td {\n",
       "    border: 1px solid black;\n",
       "    border-collapse: collapse;\n",
       "  }\n",
       "  th, td {\n",
       "    padding: 5px;\n",
       "  }\n",
       "  th {\n",
       "    text-align: left;\n",
       "  }\n",
       "</style><div class='table-result-container'><table class='table-result'><thead style='background-color: white'><tr><th>delivery_id</th><th>vehicle_id</th><th>vehicle_type</th><th>driver_name</th><th>rating</th><th>route_name</th><th>distance</th><th>delivery_time</th><th>distance_covered</th><th>delivery_status</th><th>fuel_consumed</th><th>processed_date</th></tr></thead><tbody><tr><td>5</td><td>383</td><td>Truck</td><td>Joseph Wilson</td><td>4.2</td><td>New Rogerton to North Jennifer</td><td>693.0</td><td>12.0</td><td>84.86</td><td>Failed</td><td>6.5478395339947</td><td>2025-04-04T19:05:08.614636Z</td></tr><tr><td>6</td><td>313</td><td>Van</td><td>Elizabeth Stout</td><td>1.4</td><td>North Susan to Bellport</td><td>372.0</td><td>12.0</td><td>500.0</td><td>Completed</td><td>37.09198939016063</td><td>2025-04-04T19:05:08.614636Z</td></tr><tr><td>52</td><td>405</td><td>Car</td><td>Mr. Patrick Adams III</td><td>1.4</td><td>North John to Robinbury</td><td>121.0</td><td>4.72</td><td>500.0</td><td>Completed</td><td>50.709940913780585</td><td>2025-04-04T19:05:08.614636Z</td></tr><tr><td>93</td><td>311</td><td>Van</td><td>Mrs. Lisa Clark</td><td>4.9</td><td>South Tylerchester to Luisland</td><td>470.0</td><td>12.0</td><td>500.0</td><td>Failed</td><td>57.4052810344618</td><td>2025-04-04T19:05:08.614636Z</td></tr><tr><td>130</td><td>100</td><td>Truck</td><td>Alexander Marsh</td><td>3.8</td><td>Joshuabury to Nicolestad</td><td>898.0</td><td>12.0</td><td>500.0</td><td>Failed</td><td>62.111799770573214</td><td>2025-04-04T19:05:08.614636Z</td></tr><tr><td>145</td><td>256</td><td>Truck</td><td>Darlene Turner</td><td>1.2</td><td>Haasland to East Scottville</td><td>60.0</td><td>5.84</td><td>141.12</td><td>Failed</td><td>11.289599609375</td><td>2025-04-04T19:05:08.614636Z</td></tr><tr><td>152</td><td>302</td><td>Van</td><td>Albert Lynch</td><td>2.2</td><td>West Robert to South Andrew</td><td>763.0</td><td>3.38</td><td>147.51</td><td>Completed</td><td>14.021861985564344</td><td>2025-04-04T19:05:08.614636Z</td></tr><tr><td>166</td><td>8</td><td>Car</td><td>Michael Bell</td><td>1.0</td><td>East Edwinfort to Lake Josephland</td><td>812.0</td><td>1.48</td><td>84.71</td><td>Failed</td><td>6.233259612461569</td><td>2025-04-04T19:05:08.614636Z</td></tr><tr><td>173</td><td>247</td><td>Bus</td><td>Christopher Hahn</td><td>4.0</td><td>Vegamouth to Port Dawnshire</td><td>151.0</td><td>4.32</td><td>500.0</td><td>Completed</td><td>65.96306134994488</td><td>2025-04-04T19:05:08.614636Z</td></tr><tr><td>175</td><td>371</td><td>Car</td><td>Colleen Russell</td><td>1.8</td><td>South Rachel to Brettton</td><td>214.0</td><td>4.72</td><td>162.58</td><td>Failed</td><td>17.787745702857425</td><td>2025-04-04T19:05:08.614636Z</td></tr><tr><td>180</td><td>231</td><td>Van</td><td>Robert Callahan</td><td>4.8</td><td>Port Brendatown to Williamsmouth</td><td>927.0</td><td>4.31</td><td>500.0</td><td>Failed</td><td>61.124692096115446</td><td>2025-04-04T19:05:08.614636Z</td></tr><tr><td>193</td><td>448</td><td>Car</td><td>Vanessa Gray</td><td>2.6</td><td>East Nancyville to Amyview</td><td>74.0</td><td>12.0</td><td>500.0</td><td>Failed</td><td>40.55150065643422</td><td>2025-04-04T19:05:08.614636Z</td></tr><tr><td>206</td><td>472</td><td>Bus</td><td>Rebecca Flores</td><td>4.5</td><td>Ericbury to East Jesse</td><td>494.0</td><td>4.2</td><td>500.0</td><td>Completed</td><td>87.7193011808998</td><td>2025-04-04T19:05:08.614636Z</td></tr><tr><td>222</td><td>14</td><td>Van</td><td>James Mcgrath</td><td>4.4</td><td>Richardsburgh to South Yesenia</td><td>337.0</td><td>12.0</td><td>500.0</td><td>Completed</td><td>39.37007933143675</td><td>2025-04-04T19:05:08.614636Z</td></tr><tr><td>227</td><td>150</td><td>Bus</td><td>Sarah Bennett</td><td>1.5</td><td>North Amy to Keithburgh</td><td>66.0</td><td>3.78</td><td>149.95</td><td>Failed</td><td>13.607077197769199</td><td>2025-04-04T19:05:08.614636Z</td></tr><tr><td>230</td><td>9</td><td>Car</td><td>Justin Wells</td><td>4.4</td><td>Lake John to Martinburgh</td><td>837.0</td><td>3.24</td><td>131.41</td><td>Completed</td><td>9.18951062303142</td><td>2025-04-04T19:05:08.614636Z</td></tr><tr><td>239</td><td>289</td><td>Car</td><td>Ashley Gray</td><td>2.1</td><td>Lake Nathanville to New Erin</td><td>860.0</td><td>12.0</td><td>500.0</td><td>Completed</td><td>49.90019732110803</td><td>2025-04-04T19:05:08.614636Z</td></tr><tr><td>252</td><td>315</td><td>Truck</td><td>Joan Hill</td><td>4.6</td><td>Mercedesview to South Lisaburgh</td><td>131.0</td><td>12.0</td><td>197.14</td><td>Completed</td><td>18.865072056256018</td><td>2025-04-04T19:05:08.614636Z</td></tr><tr><td>255</td><td>294</td><td>Van</td><td>Nicole Acosta</td><td>4.0</td><td>Michaelborough to East Danielle</td><td>872.0</td><td>2.86</td><td>500.0</td><td>Failed</td><td>53.64807042619011</td><td>2025-04-04T19:05:08.614636Z</td></tr><tr><td>257</td><td>272</td><td>Van</td><td>Jeffrey Lindsey</td><td>3.1</td><td>Ryanland to East Elizabeth</td><td>899.0</td><td>12.0</td><td>95.66</td><td>Failed</td><td>11.72303988368913</td><td>2025-04-04T19:05:08.614636Z</td></tr><tr><td>262</td><td>260</td><td>Car</td><td>Natalie White</td><td>4.2</td><td>Brandonport to Shannonview</td><td>910.0</td><td>12.0</td><td>500.0</td><td>Completed</td><td>43.365135436230744</td><td>2025-04-04T19:05:08.614636Z</td></tr><tr><td>274</td><td>290</td><td>Truck</td><td>Heather Bryant</td><td>3.1</td><td>Lisaland to Johnshire</td><td>495.0</td><td>4.61</td><td>500.0</td><td>Failed</td><td>48.59086509753104</td><td>2025-04-04T19:05:08.614636Z</td></tr><tr><td>282</td><td>173</td><td>Car</td><td>Sara Pham</td><td>1.2</td><td>Walkerview to Port Daisy</td><td>508.0</td><td>12.0</td><td>93.89</td><td>Completed</td><td>6.515614183473439</td><td>2025-04-04T19:05:08.614636Z</td></tr><tr><td>283</td><td>22</td><td>Car</td><td>Sean Ortiz</td><td>1.7</td><td>Doyleton to Cartermouth</td><td>363.0</td><td>2.08</td><td>500.0</td><td>Completed</td><td>52.8541224084329</td><td>2025-04-04T19:05:08.614636Z</td></tr><tr><td>293</td><td>435</td><td>Truck</td><td>Heather Bryant</td><td>3.1</td><td>Christopherburgh to West Alicia</td><td>974.0</td><td>1.93</td><td>500.0</td><td>Failed</td><td>70.72135613293842</td><td>2025-04-04T19:05:08.614636Z</td></tr><tr><td>299</td><td>313</td><td>Van</td><td>Kristy Flores</td><td>4.5</td><td>Tiffanyborough to Port James</td><td>936.0</td><td>12.0</td><td>127.46</td><td>Failed</td><td>9.455489867422287</td><td>2025-04-04T19:05:08.614636Z</td></tr><tr><td>339</td><td>476</td><td>Van</td><td>Kathy Baird</td><td>3.1</td><td>South David to East Seanport</td><td>83.0</td><td>3.77</td><td>500.0</td><td>Completed</td><td>39.68253848113594</td><td>2025-04-04T19:05:08.614636Z</td></tr><tr><td>400</td><td>380</td><td>Car</td><td>Michael West</td><td>4.9</td><td>Derekmouth to New Melissachester</td><td>674.0</td><td>12.0</td><td>500.0</td><td>Failed</td><td>80.5152974120105</td><td>2025-04-04T19:05:08.614636Z</td></tr><tr><td>417</td><td>433</td><td>Truck</td><td>Allen Robinson</td><td>4.5</td><td>Bergview to Laurenside</td><td>192.0</td><td>12.0</td><td>500.0</td><td>Completed</td><td>74.4047642277888</td><td>2025-04-04T19:05:08.614636Z</td></tr><tr><td>433</td><td>261</td><td>Car</td><td>Gina Wood</td><td>2.0</td><td>Littlemouth to Dannyton</td><td>429.0</td><td>2.34</td><td>500.0</td><td>Failed</td><td>50.658561884236306</td><td>2025-04-04T19:05:08.614636Z</td></tr><tr><td>454</td><td>487</td><td>Car</td><td>Nicole Guzman</td><td>3.5</td><td>Joshuabury to Nicolestad</td><td>898.0</td><td>1.73</td><td>500.0</td><td>Failed</td><td>58.34305925377931</td><td>2025-04-04T19:05:08.614636Z</td></tr><tr><td>456</td><td>405</td><td>Car</td><td>Ryan Navarro</td><td>4.5</td><td>Kaylafurt to Gabriellefurt</td><td>755.0</td><td>2.03</td><td>177.0</td><td>Completed</td><td>17.951319083478328</td><td>2025-04-04T19:05:08.614636Z</td></tr><tr><td>479</td><td>338</td><td>Car</td><td>Amy Garcia</td><td>4.6</td><td>Buckborough to Randystad</td><td>667.0</td><td>12.0</td><td>125.69</td><td>Failed</td><td>12.760405845045454</td><td>2025-04-04T19:05:08.614636Z</td></tr><tr><td>483</td><td>443</td><td>Car</td><td>Elizabeth Lara</td><td>2.3</td><td>Lake Antoniomouth to North Jamesview</td><td>399.0</td><td>1.42</td><td>95.44</td><td>Completed</td><td>13.595441980159363</td><td>2025-04-04T19:05:08.614636Z</td></tr><tr><td>525</td><td>32</td><td>Bus</td><td>Karen Myers</td><td>5.0</td><td>South Keith to South Virginia</td><td>531.0</td><td>12.0</td><td>153.35</td><td>Failed</td><td>14.902818918562978</td><td>2025-04-04T19:05:08.614636Z</td></tr><tr><td>527</td><td>258</td><td>Van</td><td>Rhonda Maldonado</td><td>3.7</td><td>Johnsonfort to East Rebecca</td><td>303.0</td><td>12.0</td><td>145.18</td><td>Failed</td><td>13.174227463257578</td><td>2025-04-04T19:05:08.614636Z</td></tr><tr><td>598</td><td>66</td><td>Bus</td><td>Laura Hammond</td><td>3.3</td><td>East Joshuamouth to Nataliemouth</td><td>668.0</td><td>12.0</td><td>500.0</td><td>Completed</td><td>49.067715465125886</td><td>2025-04-04T19:05:08.614636Z</td></tr><tr><td>602</td><td>35</td><td>Truck</td><td>Dawn Hardy</td><td>3.3</td><td>New Micheleland to North Monica</td><td>510.0</td><td>3.04</td><td>129.4</td><td>Completed</td><td>12.207546154686328</td><td>2025-04-04T19:05:08.614636Z</td></tr><tr><td>604</td><td>466</td><td>Van</td><td>Jason Roberts</td><td>3.8</td><td>Hamiltonmouth to New John</td><td>828.0</td><td>5.52</td><td>500.0</td><td>Completed</td><td>94.87666068493903</td><td>2025-04-04T19:05:08.614636Z</td></tr><tr><td>618</td><td>79</td><td>Car</td><td>Colleen Russell</td><td>1.8</td><td>New Scottborough to West Christopher</td><td>983.0</td><td>1.51</td><td>181.69</td><td>Failed</td><td>17.140565651207485</td><td>2025-04-04T19:05:08.614636Z</td></tr><tr><td>624</td><td>187</td><td>Bus</td><td>Robert Miller</td><td>1.7</td><td>New Gerald to Timothyfurt</td><td>296.0</td><td>12.0</td><td>125.04</td><td>Completed</td><td>10.94921191595173</td><td>2025-04-04T19:05:08.614636Z</td></tr><tr><td>636</td><td>293</td><td>Truck</td><td>Whitney Fields</td><td>4.5</td><td>South Gary to South Amandashire</td><td>200.0</td><td>12.0</td><td>500.0</td><td>Completed</td><td>49.11591208359658</td><td>2025-04-04T19:05:08.614636Z</td></tr><tr><td>653</td><td>409</td><td>Van</td><td>Gina Wood</td><td>2.0</td><td>Lewisshire to Wallport</td><td>419.0</td><td>12.0</td><td>65.16</td><td>Failed</td><td>11.41155923411435</td><td>2025-04-04T19:05:08.614636Z</td></tr><tr><td>680</td><td>183</td><td>Van</td><td>Jason Ayers MD</td><td>3.4</td><td>Gomezport to Reyeshaven</td><td>558.0</td><td>2.72</td><td>111.01</td><td>Failed</td><td>11.624083761163606</td><td>2025-04-04T19:05:08.614636Z</td></tr><tr><td>700</td><td>250</td><td>Bus</td><td>Sheila Hayes</td><td>3.4</td><td>Lake Travisshire to West Daniellemouth</td><td>334.0</td><td>12.0</td><td>136.88</td><td>Completed</td><td>13.647059673676031</td><td>2025-04-04T19:05:08.614636Z</td></tr><tr><td>702</td><td>239</td><td>Car</td><td>Jocelyn Ward</td><td>1.2</td><td>Lake Valerie to New Christopherfort</td><td>809.0</td><td>3.47</td><td>173.44</td><td>Completed</td><td>12.595497216822455</td><td>2025-04-04T19:05:08.614636Z</td></tr><tr><td>722</td><td>255</td><td>Truck</td><td>Sean Bernard</td><td>4.6</td><td>Jayport to Wallerbury</td><td>935.0</td><td>1.19</td><td>159.58</td><td>Completed</td><td>22.69985733548152</td><td>2025-04-04T19:05:08.614636Z</td></tr><tr><td>737</td><td>417</td><td>Car</td><td>Raven Jenkins</td><td>1.8</td><td>Barajaschester to East Lindsey</td><td>509.0</td><td>4.16</td><td>500.0</td><td>Completed</td><td>68.96551724137932</td><td>2025-04-04T19:05:08.614636Z</td></tr><tr><td>765</td><td>44</td><td>Truck</td><td>Mary Watson</td><td>1.9</td><td>Coleside to South Jessica</td><td>713.0</td><td>12.0</td><td>500.0</td><td>Completed</td><td>55.370987240935634</td><td>2025-04-04T19:05:08.614636Z</td></tr><tr><td>772</td><td>71</td><td>Truck</td><td>Larry Mora</td><td>1.8</td><td>New Louis to Williamsland</td><td>975.0</td><td>12.0</td><td>500.0</td><td>Failed</td><td>57.60368461068555</td><td>2025-04-04T19:05:08.614636Z</td></tr><tr><td>782</td><td>416</td><td>Bus</td><td>Matthew Drake</td><td>3.5</td><td>Jaredburgh to Port Danielmouth</td><td>397.0</td><td>12.0</td><td>189.72</td><td>Completed</td><td>24.35430066107137</td><td>2025-04-04T19:05:08.614636Z</td></tr><tr><td>810</td><td>458</td><td>Truck</td><td>Dawn Hardy</td><td>3.3</td><td>West Kimberly to Jenniferburgh</td><td>104.0</td><td>12.0</td><td>500.0</td><td>Failed</td><td>62.5</td><td>2025-04-04T19:05:08.614636Z</td></tr><tr><td>812</td><td>309</td><td>Bus</td><td>Ashley Lucas</td><td>4.1</td><td>Vazquezton to Port Mollyview</td><td>987.0</td><td>1.41</td><td>173.13</td><td>Failed</td><td>11.907153049314603</td><td>2025-04-04T19:05:08.614636Z</td></tr><tr><td>853</td><td>62</td><td>Van</td><td>Robert Hart</td><td>2.6</td><td>Crystalhaven to Michellestad</td><td>999.0</td><td>12.0</td><td>79.87</td><td>Completed</td><td>9.812039235612493</td><td>2025-04-04T19:05:08.614636Z</td></tr><tr><td>876</td><td>450</td><td>Bus</td><td>Jennifer Boyle</td><td>3.3</td><td>West Daniel to Doughertymouth</td><td>295.0</td><td>12.0</td><td>500.0</td><td>Completed</td><td>35.11236011492847</td><td>2025-04-04T19:05:08.614636Z</td></tr><tr><td>878</td><td>146</td><td>Car</td><td>Michael Bell</td><td>1.0</td><td>South Shaneland to Kevintown</td><td>486.0</td><td>1.89</td><td>500.0</td><td>Completed</td><td>70.12622608340678</td><td>2025-04-04T19:05:08.614636Z</td></tr><tr><td>891</td><td>173</td><td>Car</td><td>Latasha Le</td><td>1.6</td><td>Courtneyburgh to Zoeside</td><td>963.0</td><td>4.61</td><td>115.86</td><td>Failed</td><td>8.04024995400391</td><td>2025-04-04T19:05:08.614636Z</td></tr><tr><td>896</td><td>42</td><td>Car</td><td>Michael Ramirez</td><td>4.0</td><td>Colleenmouth to North Kelsey</td><td>239.0</td><td>3.84</td><td>500.0</td><td>Failed</td><td>45.5788503034762</td><td>2025-04-04T19:05:08.614636Z</td></tr><tr><td>911</td><td>465</td><td>Car</td><td>Ashley Kirk</td><td>3.0</td><td>Michellemouth to West Melindaborough</td><td>643.0</td><td>4.27</td><td>129.11</td><td>Failed</td><td>25.315686867577178</td><td>2025-04-04T19:05:08.614636Z</td></tr><tr><td>931</td><td>221</td><td>Car</td><td>Anthony Alexander</td><td>4.2</td><td>Shawborough to North Kimberly</td><td>658.0</td><td>12.0</td><td>74.86</td><td>Completed</td><td>6.861595019005304</td><td>2025-04-04T19:05:08.614636Z</td></tr><tr><td>934</td><td>61</td><td>Van</td><td>Paul Wu</td><td>3.1</td><td>Lake Amy to Lake Matthew</td><td>313.0</td><td>2.66</td><td>500.0</td><td>Failed</td><td>74.07407407407408</td><td>2025-04-04T19:05:08.614636Z</td></tr><tr><td>952</td><td>233</td><td>Car</td><td>Angela Taylor</td><td>4.7</td><td>North Mark to East Alexanderhaven</td><td>506.0</td><td>12.0</td><td>500.0</td><td>Completed</td><td>47.393364072078974</td><td>2025-04-04T19:05:08.614636Z</td></tr><tr><td>994</td><td>462</td><td>Truck</td><td>Paul Bautista</td><td>2.3</td><td>Lake Danielle to Johnsonhaven</td><td>810.0</td><td>1.52</td><td>148.62</td><td>Completed</td><td>13.597437416978858</td><td>2025-04-04T19:05:08.614636Z</td></tr></tbody></table></div>"
      ]
     },
     "metadata": {
      "application/vnd.databricks.v1+output": {
       "addedWidgets": {},
       "aggData": [],
       "aggError": "",
       "aggOverflow": false,
       "aggSchema": [],
       "aggSeriesLimitReached": false,
       "aggType": "",
       "arguments": {},
       "columnCustomDisplayInfos": {},
       "data": [
        [
         5,
         383,
         "Truck",
         "Joseph Wilson",
         4.2,
         "New Rogerton to North Jennifer",
         693.0,
         12.0,
         84.86,
         "Failed",
         6.5478395339947,
         "2025-04-04T19:05:08.614636Z"
        ],
        [
         6,
         313,
         "Van",
         "Elizabeth Stout",
         1.4,
         "North Susan to Bellport",
         372.0,
         12.0,
         500.0,
         "Completed",
         37.09198939016063,
         "2025-04-04T19:05:08.614636Z"
        ],
        [
         52,
         405,
         "Car",
         "Mr. Patrick Adams III",
         1.4,
         "North John to Robinbury",
         121.0,
         4.72,
         500.0,
         "Completed",
         50.709940913780585,
         "2025-04-04T19:05:08.614636Z"
        ],
        [
         93,
         311,
         "Van",
         "Mrs. Lisa Clark",
         4.9,
         "South Tylerchester to Luisland",
         470.0,
         12.0,
         500.0,
         "Failed",
         57.4052810344618,
         "2025-04-04T19:05:08.614636Z"
        ],
        [
         130,
         100,
         "Truck",
         "Alexander Marsh",
         3.8,
         "Joshuabury to Nicolestad",
         898.0,
         12.0,
         500.0,
         "Failed",
         62.111799770573214,
         "2025-04-04T19:05:08.614636Z"
        ],
        [
         145,
         256,
         "Truck",
         "Darlene Turner",
         1.2,
         "Haasland to East Scottville",
         60.0,
         5.84,
         141.12,
         "Failed",
         11.289599609375,
         "2025-04-04T19:05:08.614636Z"
        ],
        [
         152,
         302,
         "Van",
         "Albert Lynch",
         2.2,
         "West Robert to South Andrew",
         763.0,
         3.38,
         147.51,
         "Completed",
         14.021861985564344,
         "2025-04-04T19:05:08.614636Z"
        ],
        [
         166,
         8,
         "Car",
         "Michael Bell",
         1.0,
         "East Edwinfort to Lake Josephland",
         812.0,
         1.48,
         84.71,
         "Failed",
         6.233259612461569,
         "2025-04-04T19:05:08.614636Z"
        ],
        [
         173,
         247,
         "Bus",
         "Christopher Hahn",
         4.0,
         "Vegamouth to Port Dawnshire",
         151.0,
         4.32,
         500.0,
         "Completed",
         65.96306134994488,
         "2025-04-04T19:05:08.614636Z"
        ],
        [
         175,
         371,
         "Car",
         "Colleen Russell",
         1.8,
         "South Rachel to Brettton",
         214.0,
         4.72,
         162.58,
         "Failed",
         17.787745702857425,
         "2025-04-04T19:05:08.614636Z"
        ],
        [
         180,
         231,
         "Van",
         "Robert Callahan",
         4.8,
         "Port Brendatown to Williamsmouth",
         927.0,
         4.31,
         500.0,
         "Failed",
         61.124692096115446,
         "2025-04-04T19:05:08.614636Z"
        ],
        [
         193,
         448,
         "Car",
         "Vanessa Gray",
         2.6,
         "East Nancyville to Amyview",
         74.0,
         12.0,
         500.0,
         "Failed",
         40.55150065643422,
         "2025-04-04T19:05:08.614636Z"
        ],
        [
         206,
         472,
         "Bus",
         "Rebecca Flores",
         4.5,
         "Ericbury to East Jesse",
         494.0,
         4.2,
         500.0,
         "Completed",
         87.7193011808998,
         "2025-04-04T19:05:08.614636Z"
        ],
        [
         222,
         14,
         "Van",
         "James Mcgrath",
         4.4,
         "Richardsburgh to South Yesenia",
         337.0,
         12.0,
         500.0,
         "Completed",
         39.37007933143675,
         "2025-04-04T19:05:08.614636Z"
        ],
        [
         227,
         150,
         "Bus",
         "Sarah Bennett",
         1.5,
         "North Amy to Keithburgh",
         66.0,
         3.78,
         149.95,
         "Failed",
         13.607077197769199,
         "2025-04-04T19:05:08.614636Z"
        ],
        [
         230,
         9,
         "Car",
         "Justin Wells",
         4.4,
         "Lake John to Martinburgh",
         837.0,
         3.24,
         131.41,
         "Completed",
         9.18951062303142,
         "2025-04-04T19:05:08.614636Z"
        ],
        [
         239,
         289,
         "Car",
         "Ashley Gray",
         2.1,
         "Lake Nathanville to New Erin",
         860.0,
         12.0,
         500.0,
         "Completed",
         49.90019732110803,
         "2025-04-04T19:05:08.614636Z"
        ],
        [
         252,
         315,
         "Truck",
         "Joan Hill",
         4.6,
         "Mercedesview to South Lisaburgh",
         131.0,
         12.0,
         197.14,
         "Completed",
         18.865072056256018,
         "2025-04-04T19:05:08.614636Z"
        ],
        [
         255,
         294,
         "Van",
         "Nicole Acosta",
         4.0,
         "Michaelborough to East Danielle",
         872.0,
         2.86,
         500.0,
         "Failed",
         53.64807042619011,
         "2025-04-04T19:05:08.614636Z"
        ],
        [
         257,
         272,
         "Van",
         "Jeffrey Lindsey",
         3.1,
         "Ryanland to East Elizabeth",
         899.0,
         12.0,
         95.66,
         "Failed",
         11.72303988368913,
         "2025-04-04T19:05:08.614636Z"
        ],
        [
         262,
         260,
         "Car",
         "Natalie White",
         4.2,
         "Brandonport to Shannonview",
         910.0,
         12.0,
         500.0,
         "Completed",
         43.365135436230744,
         "2025-04-04T19:05:08.614636Z"
        ],
        [
         274,
         290,
         "Truck",
         "Heather Bryant",
         3.1,
         "Lisaland to Johnshire",
         495.0,
         4.61,
         500.0,
         "Failed",
         48.59086509753104,
         "2025-04-04T19:05:08.614636Z"
        ],
        [
         282,
         173,
         "Car",
         "Sara Pham",
         1.2,
         "Walkerview to Port Daisy",
         508.0,
         12.0,
         93.89,
         "Completed",
         6.515614183473439,
         "2025-04-04T19:05:08.614636Z"
        ],
        [
         283,
         22,
         "Car",
         "Sean Ortiz",
         1.7,
         "Doyleton to Cartermouth",
         363.0,
         2.08,
         500.0,
         "Completed",
         52.8541224084329,
         "2025-04-04T19:05:08.614636Z"
        ],
        [
         293,
         435,
         "Truck",
         "Heather Bryant",
         3.1,
         "Christopherburgh to West Alicia",
         974.0,
         1.93,
         500.0,
         "Failed",
         70.72135613293842,
         "2025-04-04T19:05:08.614636Z"
        ],
        [
         299,
         313,
         "Van",
         "Kristy Flores",
         4.5,
         "Tiffanyborough to Port James",
         936.0,
         12.0,
         127.46,
         "Failed",
         9.455489867422287,
         "2025-04-04T19:05:08.614636Z"
        ],
        [
         339,
         476,
         "Van",
         "Kathy Baird",
         3.1,
         "South David to East Seanport",
         83.0,
         3.77,
         500.0,
         "Completed",
         39.68253848113594,
         "2025-04-04T19:05:08.614636Z"
        ],
        [
         400,
         380,
         "Car",
         "Michael West",
         4.9,
         "Derekmouth to New Melissachester",
         674.0,
         12.0,
         500.0,
         "Failed",
         80.5152974120105,
         "2025-04-04T19:05:08.614636Z"
        ],
        [
         417,
         433,
         "Truck",
         "Allen Robinson",
         4.5,
         "Bergview to Laurenside",
         192.0,
         12.0,
         500.0,
         "Completed",
         74.4047642277888,
         "2025-04-04T19:05:08.614636Z"
        ],
        [
         433,
         261,
         "Car",
         "Gina Wood",
         2.0,
         "Littlemouth to Dannyton",
         429.0,
         2.34,
         500.0,
         "Failed",
         50.658561884236306,
         "2025-04-04T19:05:08.614636Z"
        ],
        [
         454,
         487,
         "Car",
         "Nicole Guzman",
         3.5,
         "Joshuabury to Nicolestad",
         898.0,
         1.73,
         500.0,
         "Failed",
         58.34305925377931,
         "2025-04-04T19:05:08.614636Z"
        ],
        [
         456,
         405,
         "Car",
         "Ryan Navarro",
         4.5,
         "Kaylafurt to Gabriellefurt",
         755.0,
         2.03,
         177.0,
         "Completed",
         17.951319083478328,
         "2025-04-04T19:05:08.614636Z"
        ],
        [
         479,
         338,
         "Car",
         "Amy Garcia",
         4.6,
         "Buckborough to Randystad",
         667.0,
         12.0,
         125.69,
         "Failed",
         12.760405845045454,
         "2025-04-04T19:05:08.614636Z"
        ],
        [
         483,
         443,
         "Car",
         "Elizabeth Lara",
         2.3,
         "Lake Antoniomouth to North Jamesview",
         399.0,
         1.42,
         95.44,
         "Completed",
         13.595441980159363,
         "2025-04-04T19:05:08.614636Z"
        ],
        [
         525,
         32,
         "Bus",
         "Karen Myers",
         5.0,
         "South Keith to South Virginia",
         531.0,
         12.0,
         153.35,
         "Failed",
         14.902818918562978,
         "2025-04-04T19:05:08.614636Z"
        ],
        [
         527,
         258,
         "Van",
         "Rhonda Maldonado",
         3.7,
         "Johnsonfort to East Rebecca",
         303.0,
         12.0,
         145.18,
         "Failed",
         13.174227463257578,
         "2025-04-04T19:05:08.614636Z"
        ],
        [
         598,
         66,
         "Bus",
         "Laura Hammond",
         3.3,
         "East Joshuamouth to Nataliemouth",
         668.0,
         12.0,
         500.0,
         "Completed",
         49.067715465125886,
         "2025-04-04T19:05:08.614636Z"
        ],
        [
         602,
         35,
         "Truck",
         "Dawn Hardy",
         3.3,
         "New Micheleland to North Monica",
         510.0,
         3.04,
         129.4,
         "Completed",
         12.207546154686328,
         "2025-04-04T19:05:08.614636Z"
        ],
        [
         604,
         466,
         "Van",
         "Jason Roberts",
         3.8,
         "Hamiltonmouth to New John",
         828.0,
         5.52,
         500.0,
         "Completed",
         94.87666068493903,
         "2025-04-04T19:05:08.614636Z"
        ],
        [
         618,
         79,
         "Car",
         "Colleen Russell",
         1.8,
         "New Scottborough to West Christopher",
         983.0,
         1.51,
         181.69,
         "Failed",
         17.140565651207485,
         "2025-04-04T19:05:08.614636Z"
        ],
        [
         624,
         187,
         "Bus",
         "Robert Miller",
         1.7,
         "New Gerald to Timothyfurt",
         296.0,
         12.0,
         125.04,
         "Completed",
         10.94921191595173,
         "2025-04-04T19:05:08.614636Z"
        ],
        [
         636,
         293,
         "Truck",
         "Whitney Fields",
         4.5,
         "South Gary to South Amandashire",
         200.0,
         12.0,
         500.0,
         "Completed",
         49.11591208359658,
         "2025-04-04T19:05:08.614636Z"
        ],
        [
         653,
         409,
         "Van",
         "Gina Wood",
         2.0,
         "Lewisshire to Wallport",
         419.0,
         12.0,
         65.16,
         "Failed",
         11.41155923411435,
         "2025-04-04T19:05:08.614636Z"
        ],
        [
         680,
         183,
         "Van",
         "Jason Ayers MD",
         3.4,
         "Gomezport to Reyeshaven",
         558.0,
         2.72,
         111.01,
         "Failed",
         11.624083761163606,
         "2025-04-04T19:05:08.614636Z"
        ],
        [
         700,
         250,
         "Bus",
         "Sheila Hayes",
         3.4,
         "Lake Travisshire to West Daniellemouth",
         334.0,
         12.0,
         136.88,
         "Completed",
         13.647059673676031,
         "2025-04-04T19:05:08.614636Z"
        ],
        [
         702,
         239,
         "Car",
         "Jocelyn Ward",
         1.2,
         "Lake Valerie to New Christopherfort",
         809.0,
         3.47,
         173.44,
         "Completed",
         12.595497216822455,
         "2025-04-04T19:05:08.614636Z"
        ],
        [
         722,
         255,
         "Truck",
         "Sean Bernard",
         4.6,
         "Jayport to Wallerbury",
         935.0,
         1.19,
         159.58,
         "Completed",
         22.69985733548152,
         "2025-04-04T19:05:08.614636Z"
        ],
        [
         737,
         417,
         "Car",
         "Raven Jenkins",
         1.8,
         "Barajaschester to East Lindsey",
         509.0,
         4.16,
         500.0,
         "Completed",
         68.96551724137932,
         "2025-04-04T19:05:08.614636Z"
        ],
        [
         765,
         44,
         "Truck",
         "Mary Watson",
         1.9,
         "Coleside to South Jessica",
         713.0,
         12.0,
         500.0,
         "Completed",
         55.370987240935634,
         "2025-04-04T19:05:08.614636Z"
        ],
        [
         772,
         71,
         "Truck",
         "Larry Mora",
         1.8,
         "New Louis to Williamsland",
         975.0,
         12.0,
         500.0,
         "Failed",
         57.60368461068555,
         "2025-04-04T19:05:08.614636Z"
        ],
        [
         782,
         416,
         "Bus",
         "Matthew Drake",
         3.5,
         "Jaredburgh to Port Danielmouth",
         397.0,
         12.0,
         189.72,
         "Completed",
         24.35430066107137,
         "2025-04-04T19:05:08.614636Z"
        ],
        [
         810,
         458,
         "Truck",
         "Dawn Hardy",
         3.3,
         "West Kimberly to Jenniferburgh",
         104.0,
         12.0,
         500.0,
         "Failed",
         62.5,
         "2025-04-04T19:05:08.614636Z"
        ],
        [
         812,
         309,
         "Bus",
         "Ashley Lucas",
         4.1,
         "Vazquezton to Port Mollyview",
         987.0,
         1.41,
         173.13,
         "Failed",
         11.907153049314603,
         "2025-04-04T19:05:08.614636Z"
        ],
        [
         853,
         62,
         "Van",
         "Robert Hart",
         2.6,
         "Crystalhaven to Michellestad",
         999.0,
         12.0,
         79.87,
         "Completed",
         9.812039235612493,
         "2025-04-04T19:05:08.614636Z"
        ],
        [
         876,
         450,
         "Bus",
         "Jennifer Boyle",
         3.3,
         "West Daniel to Doughertymouth",
         295.0,
         12.0,
         500.0,
         "Completed",
         35.11236011492847,
         "2025-04-04T19:05:08.614636Z"
        ],
        [
         878,
         146,
         "Car",
         "Michael Bell",
         1.0,
         "South Shaneland to Kevintown",
         486.0,
         1.89,
         500.0,
         "Completed",
         70.12622608340678,
         "2025-04-04T19:05:08.614636Z"
        ],
        [
         891,
         173,
         "Car",
         "Latasha Le",
         1.6,
         "Courtneyburgh to Zoeside",
         963.0,
         4.61,
         115.86,
         "Failed",
         8.04024995400391,
         "2025-04-04T19:05:08.614636Z"
        ],
        [
         896,
         42,
         "Car",
         "Michael Ramirez",
         4.0,
         "Colleenmouth to North Kelsey",
         239.0,
         3.84,
         500.0,
         "Failed",
         45.5788503034762,
         "2025-04-04T19:05:08.614636Z"
        ],
        [
         911,
         465,
         "Car",
         "Ashley Kirk",
         3.0,
         "Michellemouth to West Melindaborough",
         643.0,
         4.27,
         129.11,
         "Failed",
         25.315686867577178,
         "2025-04-04T19:05:08.614636Z"
        ],
        [
         931,
         221,
         "Car",
         "Anthony Alexander",
         4.2,
         "Shawborough to North Kimberly",
         658.0,
         12.0,
         74.86,
         "Completed",
         6.861595019005304,
         "2025-04-04T19:05:08.614636Z"
        ],
        [
         934,
         61,
         "Van",
         "Paul Wu",
         3.1,
         "Lake Amy to Lake Matthew",
         313.0,
         2.66,
         500.0,
         "Failed",
         74.07407407407408,
         "2025-04-04T19:05:08.614636Z"
        ],
        [
         952,
         233,
         "Car",
         "Angela Taylor",
         4.7,
         "North Mark to East Alexanderhaven",
         506.0,
         12.0,
         500.0,
         "Completed",
         47.393364072078974,
         "2025-04-04T19:05:08.614636Z"
        ],
        [
         994,
         462,
         "Truck",
         "Paul Bautista",
         2.3,
         "Lake Danielle to Johnsonhaven",
         810.0,
         1.52,
         148.62,
         "Completed",
         13.597437416978858,
         "2025-04-04T19:05:08.614636Z"
        ]
       ],
       "datasetInfos": [],
       "dbfsResultPath": null,
       "isJsonSchema": true,
       "metadata": {},
       "overflow": false,
       "plotOptions": {
        "customPlotOptions": {},
        "displayType": "table",
        "pivotAggregation": null,
        "pivotColumns": null,
        "xColumns": null,
        "yColumns": null
       },
       "removedWidgets": [],
       "schema": [
        {
         "metadata": "{}",
         "name": "delivery_id",
         "type": "\"integer\""
        },
        {
         "metadata": "{}",
         "name": "vehicle_id",
         "type": "\"integer\""
        },
        {
         "metadata": "{}",
         "name": "vehicle_type",
         "type": "\"string\""
        },
        {
         "metadata": "{}",
         "name": "driver_name",
         "type": "\"string\""
        },
        {
         "metadata": "{}",
         "name": "rating",
         "type": "\"float\""
        },
        {
         "metadata": "{}",
         "name": "route_name",
         "type": "\"string\""
        },
        {
         "metadata": "{}",
         "name": "distance",
         "type": "\"float\""
        },
        {
         "metadata": "{}",
         "name": "delivery_time",
         "type": "\"float\""
        },
        {
         "metadata": "{}",
         "name": "distance_covered",
         "type": "\"float\""
        },
        {
         "metadata": "{}",
         "name": "delivery_status",
         "type": "\"string\""
        },
        {
         "metadata": "{}",
         "name": "fuel_consumed",
         "type": "\"double\""
        },
        {
         "metadata": "{}",
         "name": "processed_date",
         "type": "\"timestamp\""
        }
       ],
       "type": "table"
      }
     },
     "output_type": "display_data"
    }
   ],
   "source": [
    "try:\n",
    "    #joining datasets to create the silver layer\n",
    "    silver_layer_data = delivery_bronze \\\n",
    "        .join(vehicle_bronze, on=\"vehicle_id\", how=\"inner\") \\\n",
    "        .join(route_bronze, on=\"route_id\", how=\"inner\") \\\n",
    "        .join(driver_bronze, on=\"driver_id\", how=\"inner\") \\\n",
    "        .select(\n",
    "            delivery_bronze[\"delivery_id\"],\n",
    "            delivery_bronze[\"vehicle_id\"],\n",
    "            vehicle_bronze[\"vehicle_type\"],\n",
    "            driver_bronze[\"driver_name\"],\n",
    "            driver_bronze[\"rating\"],\n",
    "            route_bronze[\"route_name\"],\n",
    "            route_bronze[\"distance\"],\n",
    "            delivery_bronze[\"delivery_time\"],\n",
    "            delivery_bronze[\"distance_covered\"],\n",
    "            delivery_bronze[\"delivery_status\"],\n",
    "            (col(\"distance_covered\") / col(\"fuel_efficiency\")).alias(\"fuel_consumed\"),\n",
    "            current_timestamp().alias(\"processed_date\")\n",
    "        )\n",
    "    \n",
    "    silver_layer_data.display()\n",
    "    logger.info(\"silver dataset created successfully.\")\n",
    "except Exception as e:\n",
    "    logger.error(f\"Error: {str(e)}\")\n",
    "    raise"
   ]
  },
  {
   "cell_type": "code",
   "execution_count": 0,
   "metadata": {
    "application/vnd.databricks.v1+cell": {
     "cellMetadata": {
      "byteLimit": 2048000,
      "rowLimit": 10000
     },
     "inputWidgets": {},
     "nuid": "139605bc-d67f-4543-ac98-5df16ee07a6b",
     "showTitle": false,
     "tableResultSettingsMap": {},
     "title": ""
    }
   },
   "outputs": [
    {
     "output_type": "execute_result",
     "data": {
      "text/plain": [
       "['delivery_id',\n",
       " 'vehicle_id',\n",
       " 'vehicle_type',\n",
       " 'driver_name',\n",
       " 'rating',\n",
       " 'route_name',\n",
       " 'distance',\n",
       " 'delivery_time',\n",
       " 'distance_covered',\n",
       " 'delivery_status',\n",
       " 'fuel_consumed',\n",
       " 'processed_date']"
      ]
     },
     "execution_count": 14,
     "metadata": {},
     "output_type": "execute_result"
    }
   ],
   "source": [
    "silver_layer_data.columns"
   ]
  },
  {
   "cell_type": "code",
   "execution_count": 0,
   "metadata": {
    "application/vnd.databricks.v1+cell": {
     "cellMetadata": {
      "byteLimit": 2048000,
      "rowLimit": 10000
     },
     "inputWidgets": {},
     "nuid": "a7410ae8-2f02-4a5e-972c-b2f097a0f11a",
     "showTitle": false,
     "tableResultSettingsMap": {},
     "title": ""
    }
   },
   "outputs": [
    {
     "output_type": "stream",
     "name": "stdout",
     "output_type": "stream",
     "text": [
      "root\n |-- delivery_id: integer (nullable = true)\n |-- vehicle_id: integer (nullable = true)\n |-- vehicle_type: string (nullable = true)\n |-- driver_name: string (nullable = true)\n |-- rating: float (nullable = true)\n |-- route_name: string (nullable = true)\n |-- distance: float (nullable = true)\n |-- delivery_time: float (nullable = true)\n |-- distance_covered: float (nullable = true)\n |-- delivery_status: string (nullable = true)\n |-- fuel_consumed: double (nullable = true)\n |-- processed_date: timestamp (nullable = false)\n\n"
     ]
    }
   ],
   "source": [
    "silver_layer_data.printSchema()  "
   ]
  },
  {
   "cell_type": "code",
   "execution_count": 0,
   "metadata": {
    "application/vnd.databricks.v1+cell": {
     "cellMetadata": {
      "byteLimit": 2048000,
      "rowLimit": 10000
     },
     "inputWidgets": {},
     "nuid": "e197aa66-8de1-4a20-aaaf-06a52c225e0f",
     "showTitle": false,
     "tableResultSettingsMap": {},
     "title": ""
    }
   },
   "outputs": [],
   "source": [
    "try:\n",
    "    silver_layer_data.write.mode(\"overwrite\").parquet(f\"{silver_path}delivery_data_silver.parquet\")\n",
    "    logger.info(\"parquet file generated successfully.\")\n",
    "except Exception as e:\n",
    "    logger.error(f\"Error: {str(e)}\")\n",
    "    raise"
   ]
  },
  {
   "cell_type": "code",
   "execution_count": 0,
   "metadata": {
    "application/vnd.databricks.v1+cell": {
     "cellMetadata": {
      "byteLimit": 2048000,
      "rowLimit": 10000
     },
     "inputWidgets": {},
     "nuid": "131c920f-f5e8-4fc4-a949-fd54110f449f",
     "showTitle": false,
     "tableResultSettingsMap": {},
     "title": ""
    }
   },
   "outputs": [],
   "source": [
    "try:\n",
    "    jdbc_url = \"jdbc:mysql://serlog.mysql.database.azure.com:3306/silver_db\"\n",
    "    connection_properties = {\n",
    "        \"user\": \"login\", \n",
    "        \"password\": \"amal@gmail.2002\",\n",
    "        \"driver\": \"com.mysql.cj.jdbc.Driver\"\n",
    "    }\n",
    "    logger.info(\"database connected successfully.\")\n",
    "except Exception as e:\n",
    "    logger.error(f\"Error: {str(e)}\")\n",
    "    raise"
   ]
  },
  {
   "cell_type": "code",
   "execution_count": 0,
   "metadata": {
    "application/vnd.databricks.v1+cell": {
     "cellMetadata": {
      "byteLimit": 2048000,
      "rowLimit": 10000
     },
     "inputWidgets": {},
     "nuid": "d229395d-8aeb-4f2c-8b88-3fb352b9c9ee",
     "showTitle": false,
     "tableResultSettingsMap": {},
     "title": ""
    }
   },
   "outputs": [],
   "source": [
    "try:\n",
    "    silver_layer_data.write \\\n",
    "        .format(\"jdbc\") \\\n",
    "        .option(\"url\", jdbc_url) \\\n",
    "        .option(\"dbtable\", \"delivery_data_silver\") \\\n",
    "        .option(\"user\", \"login\") \\\n",
    "        .option(\"password\", \"amal@gmail.2002\") \\\n",
    "        .option(\"driver\", \"com.mysql.cj.jdbc.Driver\") \\\n",
    "        .mode(\"overwrite\") \\\n",
    "        .save()\n",
    "    logger.info(\"table created successfully.\")\n",
    "except Exception as e:\n",
    "    logger.error(f\"Error: {str(e)}\")\n",
    "    raise"
   ]
  }
 ],
 "metadata": {
  "application/vnd.databricks.v1+notebook": {
   "computePreferences": null,
   "dashboards": [],
   "environmentMetadata": {
    "base_environment": "",
    "environment_version": "2"
   },
   "inputWidgetPreferences": null,
   "language": "python",
   "notebookMetadata": {
    "pythonIndentUnit": 4
   },
   "notebookName": "bronzedatahandling_new (1)",
   "widgets": {}
  },
  "language_info": {
   "name": "python"
  }
 },
 "nbformat": 4,
 "nbformat_minor": 0
}