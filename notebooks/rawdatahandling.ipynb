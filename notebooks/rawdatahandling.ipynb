{
 "cells": [
  {
   "cell_type": "code",
   "execution_count": 0,
   "metadata": {
    "application/vnd.databricks.v1+cell": {
     "cellMetadata": {
      "byteLimit": 2048000,
      "rowLimit": 10000
     },
     "inputWidgets": {},
     "nuid": "c7166440-2de1-4d47-87d3-58e8b1d0451d",
     "showTitle": false,
     "tableResultSettingsMap": {},
     "title": ""
    }
   },
   "outputs": [],
   "source": [
    "#importing necessary packages\n",
    "from pyspark.sql import*\n",
    "from pyspark.sql.functions import*"
   ]
  },
  {
   "cell_type": "code",
   "execution_count": 0,
   "metadata": {
    "application/vnd.databricks.v1+cell": {
     "cellMetadata": {
      "byteLimit": 2048000,
      "rowLimit": 10000
     },
     "inputWidgets": {},
     "nuid": "7f571634-1a01-44d5-81b8-29a275c525d6",
     "showTitle": false,
     "tableResultSettingsMap": {},
     "title": ""
    }
   },
   "outputs": [],
   "source": [
    "spark.conf.set(\n",
    "    \"fs.azure.account.key.logisticsandtransport.dfs.core.windows.net\",\n",
    "    \"Access_KEY\")\n",
    "\n",
    "spark.conf.set(\n",
    "    \"fs.azure.account.key.transportandlogicticsraw.dfs.core.windows.net\",\n",
    "    \"Access_KEY\")"
   ]
  },
  {
   "cell_type": "code",
   "execution_count": 0,
   "metadata": {
    "application/vnd.databricks.v1+cell": {
     "cellMetadata": {
      "byteLimit": 2048000,
      "rowLimit": 10000
     },
     "inputWidgets": {},
     "nuid": "c09cb3ab-1200-4154-bc03-606716bad50a",
     "showTitle": false,
     "tableResultSettingsMap": {},
     "title": ""
    }
   },
   "outputs": [],
   "source": [
    "#setting up the paths of both raw and bronze data containers from blob and adls respectively\n",
    "raw_data_path=\"abfss://raw@transportandlogicticsraw.dfs.core.windows.net/\"\n",
    "bronze_path=\"abfss://bronze@logisticsandtransport.dfs.core.windows.net/\""
   ]
  },
  {
   "cell_type": "code",
   "execution_count": 0,
   "metadata": {
    "application/vnd.databricks.v1+cell": {
     "cellMetadata": {
      "byteLimit": 2048000,
      "rowLimit": 10000
     },
     "inputWidgets": {},
     "nuid": "9524f8aa-0201-4df8-ad21-f7549b3f38f6",
     "showTitle": false,
     "tableResultSettingsMap": {},
     "title": ""
    }
   },
   "outputs": [],
   "source": [
    "#changing delivery data from csv to parquet\n",
    "df_delivery=spark.read.format('csv').options(header='true', inferSchema='true').load(f\"{raw_data_path}delivery_data.csv\")\n",
    "delivery_bronze=df_delivery.withColumn('date_of_ingestion',current_timestamp())\\\n",
    "    .withColumn('source_file',lit('delivery_data.csv'))\n",
    "delivery_bronze.write.mode('overwrite').parquet(f\"{bronze_path}delivery_data_bronze.parquet\")"
   ]
  },
  {
   "cell_type": "code",
   "execution_count": 0,
   "metadata": {
    "application/vnd.databricks.v1+cell": {
     "cellMetadata": {
      "byteLimit": 2048000,
      "rowLimit": 10000
     },
     "inputWidgets": {},
     "nuid": "8cba8949-6ac9-4127-a46c-c599adcd54ce",
     "showTitle": false,
     "tableResultSettingsMap": {},
     "title": ""
    }
   },
   "outputs": [],
   "source": [
    "#changing driver data from csv to parquet\n",
    "df_driver=spark.read.format('csv').options(header='true', inferSchema='true').load(f\"{raw_data_path}driver_data.csv\")\n",
    "driver_bronze=df_driver.withColumn('date_of_ingestion',current_timestamp())\\\n",
    "    .withColumn('source_file',lit('driver_data.csv'))\n",
    "driver_bronze.write.mode('overwrite').parquet(f\"{bronze_path}driver_data_bronze.parquet\")"
   ]
  },
  {
   "cell_type": "code",
   "execution_count": 0,
   "metadata": {
    "application/vnd.databricks.v1+cell": {
     "cellMetadata": {
      "byteLimit": 2048000,
      "rowLimit": 10000
     },
     "inputWidgets": {},
     "nuid": "f419cd86-f820-4b27-8745-5342ecbd2645",
     "showTitle": false,
     "tableResultSettingsMap": {},
     "title": ""
    }
   },
   "outputs": [],
   "source": [
    "#changing route data from csv to parquet\n",
    "df_route=spark.read.format('csv').options(header='true', inferSchema='true').load(f\"{raw_data_path}route_data.csv\")\n",
    "route_bronze=df_route.withColumn('date_of_ingestion',current_timestamp())\\\n",
    "    .withColumn('source_file',lit('route_data.csv'))\n",
    "route_bronze.write.mode('overwrite').parquet(f\"{bronze_path}route_data_bronze.parquet\")"
   ]
  },
  {
   "cell_type": "code",
   "execution_count": 0,
   "metadata": {
    "application/vnd.databricks.v1+cell": {
     "cellMetadata": {
      "byteLimit": 2048000,
      "rowLimit": 10000
     },
     "inputWidgets": {},
     "nuid": "8c8f5a91-f9f2-4265-97cc-574248711c2e",
     "showTitle": false,
     "tableResultSettingsMap": {},
     "title": ""
    }
   },
   "outputs": [],
   "source": [
    "#changing vehicle data from csv to parquet\n",
    "df_vehicle=spark.read.format('csv').options(header='true', inferSchema='true').load(f\"{raw_data_path}vehicle_data.csv\")\n",
    "vehicle_bronze=df_vehicle.withColumn('date_of_ingestion',current_timestamp())\\\n",
    "    .withColumn('source_file',lit('vehicle_data.csv'))\n",
    "vehicle_bronze.write.mode('overwrite').parquet(f\"{bronze_path}vehicle_data_bronze.parquet\")"
   ]
  }
 ],
 "metadata": {
  "application/vnd.databricks.v1+notebook": {
   "computePreferences": null,
   "dashboards": [],
   "environmentMetadata": {
    "base_environment": "",
    "environment_version": "2"
   },
   "inputWidgetPreferences": null,
   "language": "python",
   "notebookMetadata": {
    "pythonIndentUnit": 4
   },
   "notebookName": "rawdatahandling",
   "widgets": {}
  },
  "language_info": {
   "name": "python"
  }
 },
 "nbformat": 4,
 "nbformat_minor": 0
}
